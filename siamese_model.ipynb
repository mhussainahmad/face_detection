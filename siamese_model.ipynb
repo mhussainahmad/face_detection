{
  "cells": [
    {
      "cell_type": "markdown",
      "metadata": {
        "id": "view-in-github",
        "colab_type": "text"
      },
      "source": [
        "<a href=\"https://colab.research.google.com/github/mhussainahmad/face_detection/blob/main/siamese_model.ipynb\" target=\"_parent\"><img src=\"https://colab.research.google.com/assets/colab-badge.svg\" alt=\"Open In Colab\"/></a>"
      ]
    },
    {
      "cell_type": "markdown",
      "source": [
        "Installing Tensorflow and depending libraries"
      ],
      "metadata": {
        "collapsed": false,
        "pycharm": {
          "name": "#%% md\n"
        },
        "id": "Y1cxVFSvShmA"
      }
    },
    {
      "cell_type": "code",
      "execution_count": 11,
      "outputs": [
        {
          "output_type": "stream",
          "name": "stdout",
          "text": [
            "Looking in indexes: https://pypi.org/simple, https://us-python.pkg.dev/colab-wheels/public/simple/\n",
            "Requirement already satisfied: tensorflow==2.4.1 in /usr/local/lib/python3.7/dist-packages (2.4.1)\n",
            "Requirement already satisfied: tensorflow-gpu==2.4.1 in /usr/local/lib/python3.7/dist-packages (2.4.1)\n",
            "Requirement already satisfied: typing-extensions~=3.7.4 in /usr/local/lib/python3.7/dist-packages (from tensorflow==2.4.1) (3.7.4.3)\n",
            "Requirement already satisfied: six~=1.15.0 in /usr/local/lib/python3.7/dist-packages (from tensorflow==2.4.1) (1.15.0)\n",
            "Requirement already satisfied: h5py~=2.10.0 in /usr/local/lib/python3.7/dist-packages (from tensorflow==2.4.1) (2.10.0)\n",
            "Requirement already satisfied: wheel~=0.35 in /usr/local/lib/python3.7/dist-packages (from tensorflow==2.4.1) (0.37.1)\n",
            "Requirement already satisfied: gast==0.3.3 in /usr/local/lib/python3.7/dist-packages (from tensorflow==2.4.1) (0.3.3)\n",
            "Requirement already satisfied: flatbuffers~=1.12.0 in /usr/local/lib/python3.7/dist-packages (from tensorflow==2.4.1) (1.12)\n",
            "Requirement already satisfied: google-pasta~=0.2 in /usr/local/lib/python3.7/dist-packages (from tensorflow==2.4.1) (0.2.0)\n",
            "Requirement already satisfied: grpcio~=1.32.0 in /usr/local/lib/python3.7/dist-packages (from tensorflow==2.4.1) (1.32.0)\n",
            "Requirement already satisfied: astunparse~=1.6.3 in /usr/local/lib/python3.7/dist-packages (from tensorflow==2.4.1) (1.6.3)\n",
            "Requirement already satisfied: opt-einsum~=3.3.0 in /usr/local/lib/python3.7/dist-packages (from tensorflow==2.4.1) (3.3.0)\n",
            "Requirement already satisfied: numpy~=1.19.2 in /usr/local/lib/python3.7/dist-packages (from tensorflow==2.4.1) (1.19.5)\n",
            "Requirement already satisfied: absl-py~=0.10 in /usr/local/lib/python3.7/dist-packages (from tensorflow==2.4.1) (0.15.0)\n",
            "Requirement already satisfied: termcolor~=1.1.0 in /usr/local/lib/python3.7/dist-packages (from tensorflow==2.4.1) (1.1.0)\n",
            "Requirement already satisfied: tensorflow-estimator<2.5.0,>=2.4.0 in /usr/local/lib/python3.7/dist-packages (from tensorflow==2.4.1) (2.4.0)\n",
            "Requirement already satisfied: tensorboard~=2.4 in /usr/local/lib/python3.7/dist-packages (from tensorflow==2.4.1) (2.8.0)\n",
            "Requirement already satisfied: wrapt~=1.12.1 in /usr/local/lib/python3.7/dist-packages (from tensorflow==2.4.1) (1.12.1)\n",
            "Requirement already satisfied: protobuf>=3.9.2 in /usr/local/lib/python3.7/dist-packages (from tensorflow==2.4.1) (3.17.3)\n",
            "Requirement already satisfied: keras-preprocessing~=1.1.2 in /usr/local/lib/python3.7/dist-packages (from tensorflow==2.4.1) (1.1.2)\n",
            "Requirement already satisfied: tensorboard-data-server<0.7.0,>=0.6.0 in /usr/local/lib/python3.7/dist-packages (from tensorboard~=2.4->tensorflow==2.4.1) (0.6.1)\n",
            "Requirement already satisfied: werkzeug>=0.11.15 in /usr/local/lib/python3.7/dist-packages (from tensorboard~=2.4->tensorflow==2.4.1) (1.0.1)\n",
            "Requirement already satisfied: requests<3,>=2.21.0 in /usr/local/lib/python3.7/dist-packages (from tensorboard~=2.4->tensorflow==2.4.1) (2.23.0)\n",
            "Requirement already satisfied: google-auth<3,>=1.6.3 in /usr/local/lib/python3.7/dist-packages (from tensorboard~=2.4->tensorflow==2.4.1) (1.35.0)\n",
            "Requirement already satisfied: markdown>=2.6.8 in /usr/local/lib/python3.7/dist-packages (from tensorboard~=2.4->tensorflow==2.4.1) (3.4.1)\n",
            "Requirement already satisfied: setuptools>=41.0.0 in /usr/local/lib/python3.7/dist-packages (from tensorboard~=2.4->tensorflow==2.4.1) (57.4.0)\n",
            "Requirement already satisfied: tensorboard-plugin-wit>=1.6.0 in /usr/local/lib/python3.7/dist-packages (from tensorboard~=2.4->tensorflow==2.4.1) (1.8.1)\n",
            "Requirement already satisfied: google-auth-oauthlib<0.5,>=0.4.1 in /usr/local/lib/python3.7/dist-packages (from tensorboard~=2.4->tensorflow==2.4.1) (0.4.6)\n",
            "Requirement already satisfied: rsa<5,>=3.1.4 in /usr/local/lib/python3.7/dist-packages (from google-auth<3,>=1.6.3->tensorboard~=2.4->tensorflow==2.4.1) (4.9)\n",
            "Requirement already satisfied: pyasn1-modules>=0.2.1 in /usr/local/lib/python3.7/dist-packages (from google-auth<3,>=1.6.3->tensorboard~=2.4->tensorflow==2.4.1) (0.2.8)\n",
            "Requirement already satisfied: cachetools<5.0,>=2.0.0 in /usr/local/lib/python3.7/dist-packages (from google-auth<3,>=1.6.3->tensorboard~=2.4->tensorflow==2.4.1) (4.2.4)\n",
            "Requirement already satisfied: requests-oauthlib>=0.7.0 in /usr/local/lib/python3.7/dist-packages (from google-auth-oauthlib<0.5,>=0.4.1->tensorboard~=2.4->tensorflow==2.4.1) (1.3.1)\n",
            "Requirement already satisfied: importlib-metadata>=4.4 in /usr/local/lib/python3.7/dist-packages (from markdown>=2.6.8->tensorboard~=2.4->tensorflow==2.4.1) (4.12.0)\n",
            "Requirement already satisfied: zipp>=0.5 in /usr/local/lib/python3.7/dist-packages (from importlib-metadata>=4.4->markdown>=2.6.8->tensorboard~=2.4->tensorflow==2.4.1) (3.8.1)\n",
            "Requirement already satisfied: pyasn1<0.5.0,>=0.4.6 in /usr/local/lib/python3.7/dist-packages (from pyasn1-modules>=0.2.1->google-auth<3,>=1.6.3->tensorboard~=2.4->tensorflow==2.4.1) (0.4.8)\n",
            "Requirement already satisfied: urllib3!=1.25.0,!=1.25.1,<1.26,>=1.21.1 in /usr/local/lib/python3.7/dist-packages (from requests<3,>=2.21.0->tensorboard~=2.4->tensorflow==2.4.1) (1.24.3)\n",
            "Requirement already satisfied: certifi>=2017.4.17 in /usr/local/lib/python3.7/dist-packages (from requests<3,>=2.21.0->tensorboard~=2.4->tensorflow==2.4.1) (2022.6.15)\n",
            "Requirement already satisfied: idna<3,>=2.5 in /usr/local/lib/python3.7/dist-packages (from requests<3,>=2.21.0->tensorboard~=2.4->tensorflow==2.4.1) (2.10)\n",
            "Requirement already satisfied: chardet<4,>=3.0.2 in /usr/local/lib/python3.7/dist-packages (from requests<3,>=2.21.0->tensorboard~=2.4->tensorflow==2.4.1) (3.0.4)\n",
            "Requirement already satisfied: oauthlib>=3.0.0 in /usr/local/lib/python3.7/dist-packages (from requests-oauthlib>=0.7.0->google-auth-oauthlib<0.5,>=0.4.1->tensorboard~=2.4->tensorflow==2.4.1) (3.2.0)\n"
          ]
        }
      ],
      "source": [
        "!pip install tensorflow==2.4.1 tensorflow-gpu==2.4.1"
      ],
      "metadata": {
        "pycharm": {
          "name": "#%%\n"
        },
        "colab": {
          "base_uri": "https://localhost:8080/"
        },
        "id": "bZBw9hHgShmD",
        "outputId": "e0d48032-d26e-4f6a-92b4-b0a45f111142"
      }
    },
    {
      "cell_type": "markdown",
      "source": [
        "Importing Standard Dependencies"
      ],
      "metadata": {
        "collapsed": false,
        "pycharm": {
          "name": "#%% md\n"
        },
        "id": "GRTR_pbHShmE"
      }
    },
    {
      "cell_type": "code",
      "execution_count": 12,
      "outputs": [],
      "source": [
        "import os\n",
        "import numpy as np\n",
        "import matplotlib.pyplot as plt\n",
        "import cv2\n",
        "import random"
      ],
      "metadata": {
        "pycharm": {
          "name": "#%%\n"
        },
        "id": "q-xcx665ShmF"
      }
    },
    {
      "cell_type": "markdown",
      "source": [
        "Importing Tensorflow Dependencies"
      ],
      "metadata": {
        "collapsed": false,
        "pycharm": {
          "name": "#%% md\n"
        },
        "id": "PrWLQaDNShmF"
      }
    },
    {
      "cell_type": "code",
      "execution_count": 13,
      "outputs": [],
      "source": [
        "from tensorflow.python.keras.models import Model\n",
        "from tensorflow.python.keras.layers import Layer, Conv2D, MaxPooling2D, Dense, Input, Flatten\n",
        "import tensorflow as tf"
      ],
      "metadata": {
        "pycharm": {
          "name": "#%%\n"
        },
        "id": "y0WS5tq8ShmF"
      }
    },
    {
      "cell_type": "markdown",
      "source": [
        "Setting GPU Growth"
      ],
      "metadata": {
        "collapsed": false,
        "pycharm": {
          "name": "#%% md\n"
        },
        "id": "SC5mjb_ZShmG"
      }
    },
    {
      "cell_type": "code",
      "execution_count": 4,
      "outputs": [],
      "source": [
        "gpus = tf.config.experimental.list_physical_devices('GPU')\n",
        "for gpu in gpus:\n",
        "    tf.config.experimental.set_memory_growth(gpu, True)"
      ],
      "metadata": {
        "pycharm": {
          "name": "#%%\n"
        },
        "id": "CJfj5uTdShmG"
      }
    },
    {
      "cell_type": "markdown",
      "source": [
        "Creating Folder Structures"
      ],
      "metadata": {
        "collapsed": false,
        "pycharm": {
          "name": "#%% md\n"
        },
        "id": "B8U7vlYpShmH"
      }
    },
    {
      "cell_type": "code",
      "execution_count": 5,
      "outputs": [],
      "source": [
        "POS_PATH = os.path.join(\"data\", 'positive')\n",
        "NEG_PATH = os.path.join(\"data\", 'negative')\n",
        "ANC_PATH = os.path.join(\"data\", 'anchor')"
      ],
      "metadata": {
        "pycharm": {
          "name": "#%%\n"
        },
        "id": "W0_-HGrmShmH"
      }
    },
    {
      "cell_type": "code",
      "execution_count": 6,
      "outputs": [],
      "source": [
        "os.makedirs(POS_PATH, exist_ok=True)\n",
        "os.makedirs(NEG_PATH, exist_ok=True)\n",
        "os.makedirs(ANC_PATH, exist_ok=True)"
      ],
      "metadata": {
        "pycharm": {
          "name": "#%%\n"
        },
        "id": "DOkpPAEvShmH"
      }
    },
    {
      "cell_type": "code",
      "source": [
        "!wget http://vis-www.cs.umass.edu/lfw/lfw.tgz"
      ],
      "metadata": {
        "colab": {
          "base_uri": "https://localhost:8080/"
        },
        "id": "TgfAsqZyTc7g",
        "outputId": "8dfa1082-2e80-4d1b-db78-a083bfe452d4"
      },
      "execution_count": 7,
      "outputs": [
        {
          "output_type": "stream",
          "name": "stdout",
          "text": [
            "--2022-08-07 22:18:43--  http://vis-www.cs.umass.edu/lfw/lfw.tgz\n",
            "Resolving vis-www.cs.umass.edu (vis-www.cs.umass.edu)... 128.119.244.95\n",
            "Connecting to vis-www.cs.umass.edu (vis-www.cs.umass.edu)|128.119.244.95|:80... connected.\n",
            "HTTP request sent, awaiting response... 200 OK\n",
            "Length: 180566744 (172M) [application/x-gzip]\n",
            "Saving to: ‘lfw.tgz’\n",
            "\n",
            "lfw.tgz             100%[===================>] 172.20M  11.8MB/s    in 16s     \n",
            "\n",
            "2022-08-07 22:19:01 (10.5 MB/s) - ‘lfw.tgz’ saved [180566744/180566744]\n",
            "\n"
          ]
        }
      ]
    },
    {
      "cell_type": "code",
      "execution_count": 8,
      "outputs": [],
      "source": [
        "## Uncompressing the tar file\n",
        "!tar -xf lfw.tgz"
      ],
      "metadata": {
        "pycharm": {
          "name": "#%%\n"
        },
        "id": "pji6p0yOShmI"
      }
    },
    {
      "cell_type": "markdown",
      "source": [
        " Collecting Positives and Anchor Classes"
      ],
      "metadata": {
        "collapsed": false,
        "pycharm": {
          "name": "#%% md\n"
        },
        "id": "a7RpwlVOShmI"
      }
    },
    {
      "cell_type": "code",
      "execution_count": 9,
      "outputs": [],
      "source": [
        "for directory in os.listdir('lfw'):\n",
        "    for files in os.listdir(os.path.join('lfw', directory)):\n",
        "        EX_PATH = os.path.join('lfw', directory, files)\n",
        "        NEW_PATH = os.path.join(NEG_PATH, files)\n",
        "        os.replace(EX_PATH, NEW_PATH)"
      ],
      "metadata": {
        "pycharm": {
          "name": "#%%\n"
        },
        "id": "I4xz7EGbShmI"
      }
    },
    {
      "cell_type": "markdown",
      "source": [
        "## Load and preprocess the images"
      ],
      "metadata": {
        "collapsed": false,
        "pycharm": {
          "name": "#%% md\n"
        },
        "id": "H2lT96d1ShmJ"
      }
    },
    {
      "cell_type": "code",
      "execution_count": 17,
      "outputs": [],
      "source": [
        "anchor = tf.data.Dataset.list_files(ANC_PATH+'/*.jpg').take(300)\n",
        "positive = tf.data.Dataset.list_files(POS_PATH+'/*.jpg').take(300)\n",
        "negative = tf.data.Dataset.list_files(NEG_PATH+'/*.jpg').take(300)"
      ],
      "metadata": {
        "pycharm": {
          "name": "#%%\n"
        },
        "id": "OVDJDPOwShmK"
      }
    },
    {
      "cell_type": "code",
      "execution_count": 18,
      "outputs": [],
      "source": [
        "dir_test = anchor.as_numpy_iterator()"
      ],
      "metadata": {
        "pycharm": {
          "name": "#%%\n"
        },
        "id": "CIlj8KiaShmK"
      }
    },
    {
      "cell_type": "code",
      "execution_count": 19,
      "outputs": [
        {
          "output_type": "execute_result",
          "data": {
            "text/plain": [
              "b'data/anchor/7da53628-117d-11ed-8164-6c02e06ff1a3.jpg'"
            ]
          },
          "metadata": {},
          "execution_count": 19
        }
      ],
      "source": [
        "dir_test.next()"
      ],
      "metadata": {
        "pycharm": {
          "name": "#%%\n"
        },
        "id": "hwPUcjBVShmK",
        "outputId": "f1d9d90a-5027-4e52-9f58-3425332c6a8c",
        "colab": {
          "base_uri": "https://localhost:8080/"
        }
      }
    },
    {
      "cell_type": "code",
      "execution_count": 20,
      "outputs": [],
      "source": [
        "## Preprocessing the images\n",
        "def preprocess(file_path):\n",
        "    # Reading image from the file path\n",
        "    byte_img = tf.io.read_file(file_path)\n",
        "    # Loading the image\n",
        "    img = tf.io.decode_jpeg(byte_img)\n",
        "    # Preprocessing the image - Resizing to (100,100,3)\n",
        "    img = tf.image.resize(img, (100,100))\n",
        "    # Scaling image to be between 0 and 1\n",
        "    img = img/255.0\n",
        "    # Returning the image\n",
        "    return img"
      ],
      "metadata": {
        "pycharm": {
          "name": "#%%\n"
        },
        "id": "VKYcf15kShmK"
      }
    },
    {
      "cell_type": "code",
      "execution_count": 21,
      "outputs": [],
      "source": [
        "img = preprocess('data/anchor/d788a134-117d-11ed-b7a9-6c02e06ff1a3.jpg')"
      ],
      "metadata": {
        "pycharm": {
          "name": "#%%\n"
        },
        "id": "AterzbdGShmL"
      }
    },
    {
      "cell_type": "code",
      "execution_count": 22,
      "outputs": [],
      "source": [
        "# (anchor, positive) => 1,1,1,1,1\n",
        "# (anchor, positive) => 0,0,0,0,0\n",
        "positives = tf.data.Dataset.zip((anchor, positive, tf.data.Dataset.from_tensor_slices(tf.ones(len(anchor)))))\n",
        "negatives = tf.data.Dataset.zip((anchor, negative, tf.data.Dataset.from_tensor_slices(tf.zeros(len(anchor)))))\n",
        "data = positives.concatenate(negatives)"
      ],
      "metadata": {
        "pycharm": {
          "name": "#%%\n"
        },
        "id": "bz7NzNhBShmL"
      }
    },
    {
      "cell_type": "code",
      "execution_count": 23,
      "outputs": [],
      "source": [
        "samples = data.as_numpy_iterator()"
      ],
      "metadata": {
        "pycharm": {
          "name": "#%%\n"
        },
        "id": "5wkE201_ShmL"
      }
    },
    {
      "cell_type": "code",
      "execution_count": 24,
      "outputs": [],
      "source": [
        "example = samples.next()"
      ],
      "metadata": {
        "pycharm": {
          "name": "#%%\n"
        },
        "id": "g7s_0ybDShmL"
      }
    },
    {
      "cell_type": "code",
      "execution_count": 25,
      "outputs": [
        {
          "output_type": "execute_result",
          "data": {
            "text/plain": [
              "(b'data/anchor/24630122-117e-11ed-aa19-6c02e06ff1a3.jpg',\n",
              " b'data/positive/6a85be6f-117f-11ed-8b9c-6c02e06ff1a3.jpg',\n",
              " 1.0)"
            ]
          },
          "metadata": {},
          "execution_count": 25
        }
      ],
      "source": [
        "example"
      ],
      "metadata": {
        "pycharm": {
          "name": "#%%\n"
        },
        "id": "aVuox-02ShmL",
        "outputId": "8e256427-bdd2-4caf-81b9-ea8f84f49f68",
        "colab": {
          "base_uri": "https://localhost:8080/"
        }
      }
    },
    {
      "cell_type": "markdown",
      "source": [
        "## Build Train and Test Partitions"
      ],
      "metadata": {
        "collapsed": false,
        "pycharm": {
          "name": "#%% md\n"
        },
        "id": "XMugSTvaShmM"
      }
    },
    {
      "cell_type": "code",
      "execution_count": 26,
      "outputs": [],
      "source": [
        "def preprocess_twin(input_img, validation_img, label):\n",
        "    return preprocess(input_img), preprocess(validation_img), label"
      ],
      "metadata": {
        "pycharm": {
          "name": "#%%\n"
        },
        "id": "NkkIu7YzShmM"
      }
    },
    {
      "cell_type": "code",
      "execution_count": 27,
      "outputs": [],
      "source": [
        "res = preprocess_twin(*example)"
      ],
      "metadata": {
        "pycharm": {
          "name": "#%%\n"
        },
        "id": "ERky_o0YShmM"
      }
    },
    {
      "cell_type": "code",
      "execution_count": 28,
      "outputs": [
        {
          "output_type": "execute_result",
          "data": {
            "text/plain": [
              "1.0"
            ]
          },
          "metadata": {},
          "execution_count": 28
        }
      ],
      "source": [
        "res[2]"
      ],
      "metadata": {
        "pycharm": {
          "name": "#%%\n"
        },
        "id": "YexJKPKoShmM",
        "outputId": "b2f13633-6a98-4f9f-f2eb-2f197d168143",
        "colab": {
          "base_uri": "https://localhost:8080/"
        }
      }
    },
    {
      "cell_type": "code",
      "execution_count": 29,
      "outputs": [],
      "source": [
        "# Build dataloader pipeline\n",
        "data = data.map(preprocess_twin)\n",
        "# Caching images to memory\n",
        "data = data.cache()\n",
        "# Shuffling the data\n",
        "data = data.shuffle(buffer_size=1024)"
      ],
      "metadata": {
        "pycharm": {
          "name": "#%%\n"
        },
        "id": "cX0dSFlAShmM"
      }
    },
    {
      "cell_type": "code",
      "execution_count": 30,
      "outputs": [],
      "source": [
        "# Training Partition\n",
        "# Grabbing certain percentage of the data for training\n",
        "train_data = data.take(round(len(data)*.7))\n",
        "# Creating batches of 16 images\n",
        "train_data = train_data.batch(16)\n",
        "# Preprocessing next set of images\n",
        "train_data = train_data.prefetch(0)"
      ],
      "metadata": {
        "pycharm": {
          "name": "#%%\n"
        },
        "id": "h7dCyFzeShmM"
      }
    },
    {
      "cell_type": "code",
      "execution_count": 31,
      "outputs": [],
      "source": [
        "# Validation Partition\n",
        "test_data = data.skip(round(len(data)*.7))\n",
        "test_data = test_data.take(round(len(data)*.3))\n",
        "test_data = test_data.batch(16)\n",
        "test_data = test_data.prefetch(0)"
      ],
      "metadata": {
        "pycharm": {
          "name": "#%%\n"
        },
        "id": "7sWVu9Q6ShmN"
      }
    },
    {
      "cell_type": "markdown",
      "source": [
        "# Model Engineering"
      ],
      "metadata": {
        "collapsed": false,
        "pycharm": {
          "name": "#%% md\n"
        },
        "id": "I9d27FyaShmN"
      }
    },
    {
      "cell_type": "markdown",
      "source": [
        "## Embedding Layer"
      ],
      "metadata": {
        "collapsed": false,
        "pycharm": {
          "name": "#%% md\n"
        },
        "id": "V_730pNTShmN"
      }
    },
    {
      "cell_type": "code",
      "execution_count": 32,
      "outputs": [],
      "source": [
        "def make_embedding():\n",
        "    inp = Input(shape=(100,100,3), name='input_image')\n",
        "\n",
        "    # First block\n",
        "    c1 = Conv2D(64, (10,10), activation='relu')(inp)\n",
        "    m1 = MaxPooling2D(64, (2,2), padding='same')(c1)\n",
        "\n",
        "    #Second block\n",
        "    c2 = Conv2D(128,(7,7), activation='relu')(m1)\n",
        "    m2 = MaxPooling2D(64,(2,2), padding=\"same\")(c2)\n",
        "\n",
        "    # Third block\n",
        "    c3 = Conv2D(128,(4,4), activation='relu')(m2)\n",
        "    m3 = MaxPooling2D(64,(2,2), padding=\"same\")(c3)\n",
        "\n",
        "    # Fourth block\n",
        "    c4 = Conv2D(256,(4,4), activation='relu')(m3)\n",
        "    f1 = Flatten()(c4)\n",
        "    d1 = Dense(4096, activation='sigmoid')(f1)\n",
        "\n",
        "    return Model(inputs=[inp] , outputs=[d1], name='embedding')"
      ],
      "metadata": {
        "pycharm": {
          "name": "#%%\n"
        },
        "id": "rcAgU3QoShmN"
      }
    },
    {
      "cell_type": "code",
      "execution_count": 33,
      "outputs": [],
      "source": [
        "embedding = make_embedding()"
      ],
      "metadata": {
        "pycharm": {
          "name": "#%%\n"
        },
        "id": "Zoy3M1WCShmN"
      }
    },
    {
      "cell_type": "code",
      "execution_count": 34,
      "outputs": [
        {
          "output_type": "stream",
          "name": "stdout",
          "text": [
            "Model: \"embedding\"\n",
            "_________________________________________________________________\n",
            "Layer (type)                 Output Shape              Param #   \n",
            "=================================================================\n",
            "input_image (InputLayer)     [(None, 100, 100, 3)]     0         \n",
            "_________________________________________________________________\n",
            "conv2d (Conv2D)              (None, 91, 91, 64)        19264     \n",
            "_________________________________________________________________\n",
            "max_pooling2d (MaxPooling2D) (None, 46, 46, 64)        0         \n",
            "_________________________________________________________________\n",
            "conv2d_1 (Conv2D)            (None, 40, 40, 128)       401536    \n",
            "_________________________________________________________________\n",
            "max_pooling2d_1 (MaxPooling2 (None, 20, 20, 128)       0         \n",
            "_________________________________________________________________\n",
            "conv2d_2 (Conv2D)            (None, 17, 17, 128)       262272    \n",
            "_________________________________________________________________\n",
            "max_pooling2d_2 (MaxPooling2 (None, 9, 9, 128)         0         \n",
            "_________________________________________________________________\n",
            "conv2d_3 (Conv2D)            (None, 6, 6, 256)         524544    \n",
            "_________________________________________________________________\n",
            "flatten (Flatten)            (None, 9216)              0         \n",
            "_________________________________________________________________\n",
            "dense (Dense)                (None, 4096)              37752832  \n",
            "=================================================================\n",
            "Total params: 38,960,448\n",
            "Trainable params: 38,960,448\n",
            "Non-trainable params: 0\n",
            "_________________________________________________________________\n"
          ]
        }
      ],
      "source": [
        "embedding.summary()"
      ],
      "metadata": {
        "pycharm": {
          "name": "#%%\n"
        },
        "id": "GLgKzb8vShmN",
        "outputId": "948c3544-7bdf-4401-faf0-9388607b7382",
        "colab": {
          "base_uri": "https://localhost:8080/"
        }
      }
    },
    {
      "cell_type": "markdown",
      "source": [
        "## Build Distance Layer"
      ],
      "metadata": {
        "collapsed": false,
        "pycharm": {
          "name": "#%% md\n"
        },
        "id": "YvwwaSPIShmN"
      }
    },
    {
      "cell_type": "code",
      "execution_count": 35,
      "outputs": [],
      "source": [
        "# Siamese L1 Distance class\n",
        "class L1Dist(Layer):\n",
        "    # Init method - inheritance from Layer class\n",
        "    def __init__(self, **kwargs):\n",
        "        super().__init__()\n",
        "\n",
        "    # Similarity Calculation\n",
        "    def call(self, input_embedding, validation_embedding):\n",
        "        return tf.math.abs(input_embedding - validation_embedding)"
      ],
      "metadata": {
        "pycharm": {
          "name": "#%%\n"
        },
        "id": "8zgfEoJyShmO"
      }
    },
    {
      "cell_type": "code",
      "execution_count": 36,
      "outputs": [],
      "source": [
        "l1 = L1Dist()"
      ],
      "metadata": {
        "pycharm": {
          "name": "#%%\n"
        },
        "id": "IXKFiq5aShmO"
      }
    },
    {
      "cell_type": "markdown",
      "source": [
        "Make Siamese Model"
      ],
      "metadata": {
        "collapsed": false,
        "pycharm": {
          "name": "#%% md\n"
        },
        "id": "tppdyOGFShmO"
      }
    },
    {
      "cell_type": "code",
      "execution_count": 37,
      "outputs": [],
      "source": [
        "def make_siamese_model():\n",
        "\n",
        "    # Anchor image input in the network\n",
        "    input_image = Input(name='input_img',shape=(100,100,3))\n",
        "    # Validation image input in the network\n",
        "    validation_image = Input(name='validation_img',shape=(100,100,3))\n",
        "\n",
        "    # combine siamese distance layer with the embedding layer\n",
        "    siamese_layer = L1Dist()\n",
        "    siamese_layer._name = 'distance'\n",
        "    distances = siamese_layer(embedding(input_image), embedding(validation_image))\n",
        "\n",
        "    # Classification layer\n",
        "    classifier = Dense(1, activation='sigmoid')(distances)\n",
        "    return Model(inputs=[input_image, validation_image], outputs=classifier, name='siameseNetwork')"
      ],
      "metadata": {
        "pycharm": {
          "name": "#%%\n"
        },
        "id": "tQpWF4A3ShmO"
      }
    },
    {
      "cell_type": "code",
      "execution_count": 38,
      "outputs": [],
      "source": [
        "siamese_model = make_siamese_model()"
      ],
      "metadata": {
        "pycharm": {
          "name": "#%%\n"
        },
        "id": "I2y3JtVCShmO"
      }
    },
    {
      "cell_type": "code",
      "execution_count": 39,
      "outputs": [
        {
          "output_type": "stream",
          "name": "stdout",
          "text": [
            "Model: \"siameseNetwork\"\n",
            "__________________________________________________________________________________________________\n",
            "Layer (type)                    Output Shape         Param #     Connected to                     \n",
            "==================================================================================================\n",
            "input_img (InputLayer)          [(None, 100, 100, 3) 0                                            \n",
            "__________________________________________________________________________________________________\n",
            "validation_img (InputLayer)     [(None, 100, 100, 3) 0                                            \n",
            "__________________________________________________________________________________________________\n",
            "embedding (Functional)          (None, 4096)         38960448    input_img[0][0]                  \n",
            "                                                                 validation_img[0][0]             \n",
            "__________________________________________________________________________________________________\n",
            "distance (L1Dist)               (None, 4096)         0           embedding[0][0]                  \n",
            "                                                                 embedding[1][0]                  \n",
            "__________________________________________________________________________________________________\n",
            "dense_1 (Dense)                 (None, 1)            4097        distance[0][0]                   \n",
            "==================================================================================================\n",
            "Total params: 38,964,545\n",
            "Trainable params: 38,964,545\n",
            "Non-trainable params: 0\n",
            "__________________________________________________________________________________________________\n"
          ]
        }
      ],
      "source": [
        "siamese_model.summary()"
      ],
      "metadata": {
        "pycharm": {
          "name": "#%%\n"
        },
        "id": "UAQhWbgMShmO",
        "outputId": "a3dc651e-7ef7-49cb-dbf6-b2bbd55ba520",
        "colab": {
          "base_uri": "https://localhost:8080/"
        }
      }
    },
    {
      "cell_type": "markdown",
      "source": [
        "Setup loss and optimizer"
      ],
      "metadata": {
        "collapsed": false,
        "pycharm": {
          "name": "#%% md\n"
        },
        "id": "qXbcCKbdShmO"
      }
    },
    {
      "cell_type": "code",
      "execution_count": 40,
      "outputs": [],
      "source": [
        "binary_cross_loss = tf.losses.BinaryCrossentropy()"
      ],
      "metadata": {
        "pycharm": {
          "name": "#%%\n"
        },
        "id": "EAMA87tzShmP"
      }
    },
    {
      "cell_type": "code",
      "execution_count": 41,
      "outputs": [],
      "source": [
        "optimizer = tf.keras.optimizers.Adam(1e-4) # 0.0001"
      ],
      "metadata": {
        "pycharm": {
          "name": "#%%\n"
        },
        "id": "Fd5iE4S_ShmP"
      }
    },
    {
      "cell_type": "markdown",
      "source": [
        "Establish Checkpoints"
      ],
      "metadata": {
        "collapsed": false,
        "pycharm": {
          "name": "#%% md\n"
        },
        "id": "qfY-NirWShmP"
      }
    },
    {
      "cell_type": "code",
      "execution_count": 42,
      "outputs": [],
      "source": [
        "checkpoint_dir = './training_checkpoints'\n",
        "checkpoint_prefix = os.path.join(checkpoint_dir, \"ckpt\")\n",
        "checkpoint = tf.train.Checkpoint(opt=optimizer, siamese_model=siamese_model)"
      ],
      "metadata": {
        "pycharm": {
          "name": "#%%\n"
        },
        "id": "xV4QyLj2ShmP"
      }
    },
    {
      "cell_type": "markdown",
      "source": [
        "## Build Train Step Function"
      ],
      "metadata": {
        "collapsed": false,
        "pycharm": {
          "name": "#%% md\n"
        },
        "id": "0j68i25IShmP"
      }
    },
    {
      "cell_type": "code",
      "execution_count": 43,
      "outputs": [],
      "source": [
        "@tf.function\n",
        "def train_step(batch):\n",
        "\n",
        "    # Record all of our operations\n",
        "    with tf.GradientTape() as tape:\n",
        "        # Get anchor and positive/negative image\n",
        "        X = batch[:2]\n",
        "        # Get the labels\n",
        "        y = batch[2]\n",
        "        # Forward pass\n",
        "        y_pred = siamese_model(X, training=True)\n",
        "        # Calculate loss\n",
        "        loss = binary_cross_loss(y, y_pred)\n",
        "\n",
        "        # Calculating gradients\n",
        "        grad = tape.gradient(loss, siamese_model.trainable_variables)\n",
        "\n",
        "        # Calculating updated weights and apply to siamese model\n",
        "        optimizer.apply_gradients(zip(grad, siamese_model.trainable_variables))\n",
        "        return loss"
      ],
      "metadata": {
        "pycharm": {
          "name": "#%%\n"
        },
        "id": "mUnvV041ShmP"
      }
    },
    {
      "cell_type": "markdown",
      "source": [
        "Build training loop"
      ],
      "metadata": {
        "collapsed": false,
        "pycharm": {
          "name": "#%% md\n"
        },
        "id": "sev7lzoOShmP"
      }
    },
    {
      "cell_type": "code",
      "execution_count": 44,
      "outputs": [],
      "source": [
        "def train(t_data, t_epoch):\n",
        "    # Loop through epochs\n",
        "    for epoch in range(1, t_epoch+1):\n",
        "        print('\\n EPOCH {}/{}'.format(epoch, t_epoch))\n",
        "        progbar = tf.keras.utils.Progbar(len(t_data))\n",
        "\n",
        "        # Loop through each batch\n",
        "        for idx, batch in enumerate(t_data):\n",
        "            # Run train step here\n",
        "            train_step(batch)\n",
        "            progbar.update(idx+1)\n",
        "        # Save checkpoints\n",
        "        if epoch % 10 == 0:\n",
        "            checkpoint.save(file_prefix=checkpoint_prefix)"
      ],
      "metadata": {
        "pycharm": {
          "name": "#%%\n"
        },
        "id": "HkiUgGjkShmP"
      }
    },
    {
      "cell_type": "markdown",
      "source": [
        "Train the model"
      ],
      "metadata": {
        "collapsed": false,
        "pycharm": {
          "name": "#%% md\n"
        },
        "id": "B69refGQShmP"
      }
    },
    {
      "cell_type": "code",
      "execution_count": 45,
      "outputs": [],
      "source": [
        "t_epoch = 50"
      ],
      "metadata": {
        "pycharm": {
          "name": "#%%\n"
        },
        "id": "JVGcH6-0ShmQ"
      }
    },
    {
      "cell_type": "code",
      "execution_count": 46,
      "outputs": [
        {
          "output_type": "stream",
          "name": "stdout",
          "text": [
            "\n",
            " EPOCH 1/50\n",
            "27/27 [==============================] - 22s 197ms/step\n",
            "\n",
            " EPOCH 2/50\n",
            "27/27 [==============================] - 5s 186ms/step\n",
            "\n",
            " EPOCH 3/50\n",
            "27/27 [==============================] - 5s 187ms/step\n",
            "\n",
            " EPOCH 4/50\n",
            "27/27 [==============================] - 5s 187ms/step\n",
            "\n",
            " EPOCH 5/50\n",
            "27/27 [==============================] - 5s 188ms/step\n",
            "\n",
            " EPOCH 6/50\n",
            "27/27 [==============================] - 5s 189ms/step\n",
            "\n",
            " EPOCH 7/50\n",
            "27/27 [==============================] - 5s 190ms/step\n",
            "\n",
            " EPOCH 8/50\n",
            "27/27 [==============================] - 5s 191ms/step\n",
            "\n",
            " EPOCH 9/50\n",
            "27/27 [==============================] - 5s 192ms/step\n",
            "\n",
            " EPOCH 10/50\n",
            "27/27 [==============================] - 5s 192ms/step\n",
            "\n",
            " EPOCH 11/50\n",
            "27/27 [==============================] - 5s 193ms/step\n",
            "\n",
            " EPOCH 12/50\n",
            "27/27 [==============================] - 5s 195ms/step\n",
            "\n",
            " EPOCH 13/50\n",
            "27/27 [==============================] - 5s 195ms/step\n",
            "\n",
            " EPOCH 14/50\n",
            "27/27 [==============================] - 5s 197ms/step\n",
            "\n",
            " EPOCH 15/50\n",
            "27/27 [==============================] - 5s 197ms/step\n",
            "\n",
            " EPOCH 16/50\n",
            "27/27 [==============================] - 5s 198ms/step\n",
            "\n",
            " EPOCH 17/50\n",
            "27/27 [==============================] - 5s 199ms/step\n",
            "\n",
            " EPOCH 18/50\n",
            "27/27 [==============================] - 5s 200ms/step\n",
            "\n",
            " EPOCH 19/50\n",
            "27/27 [==============================] - 5s 199ms/step\n",
            "\n",
            " EPOCH 20/50\n",
            "27/27 [==============================] - 5s 198ms/step\n",
            "\n",
            " EPOCH 21/50\n",
            "27/27 [==============================] - 5s 197ms/step\n",
            "\n",
            " EPOCH 22/50\n",
            "27/27 [==============================] - 5s 197ms/step\n",
            "\n",
            " EPOCH 23/50\n",
            "27/27 [==============================] - 5s 196ms/step\n",
            "\n",
            " EPOCH 24/50\n",
            "27/27 [==============================] - 5s 196ms/step\n",
            "\n",
            " EPOCH 25/50\n",
            "27/27 [==============================] - 5s 196ms/step\n",
            "\n",
            " EPOCH 26/50\n",
            "27/27 [==============================] - 5s 196ms/step\n",
            "\n",
            " EPOCH 27/50\n",
            "27/27 [==============================] - 5s 196ms/step\n",
            "\n",
            " EPOCH 28/50\n",
            "27/27 [==============================] - 5s 196ms/step\n",
            "\n",
            " EPOCH 29/50\n",
            "27/27 [==============================] - 5s 196ms/step\n",
            "\n",
            " EPOCH 30/50\n",
            "27/27 [==============================] - 5s 196ms/step\n",
            "\n",
            " EPOCH 31/50\n",
            "27/27 [==============================] - 5s 196ms/step\n",
            "\n",
            " EPOCH 32/50\n",
            "27/27 [==============================] - 5s 197ms/step\n",
            "\n",
            " EPOCH 33/50\n",
            "27/27 [==============================] - 5s 197ms/step\n",
            "\n",
            " EPOCH 34/50\n",
            "27/27 [==============================] - 5s 197ms/step\n",
            "\n",
            " EPOCH 35/50\n",
            "27/27 [==============================] - 5s 197ms/step\n",
            "\n",
            " EPOCH 36/50\n",
            "27/27 [==============================] - 5s 197ms/step\n",
            "\n",
            " EPOCH 37/50\n",
            "27/27 [==============================] - 5s 197ms/step\n",
            "\n",
            " EPOCH 38/50\n",
            "27/27 [==============================] - 5s 197ms/step\n",
            "\n",
            " EPOCH 39/50\n",
            "27/27 [==============================] - 5s 197ms/step\n",
            "\n",
            " EPOCH 40/50\n",
            "27/27 [==============================] - 5s 197ms/step\n",
            "\n",
            " EPOCH 41/50\n",
            "27/27 [==============================] - 5s 196ms/step\n",
            "\n",
            " EPOCH 42/50\n",
            "27/27 [==============================] - 5s 196ms/step\n",
            "\n",
            " EPOCH 43/50\n",
            "27/27 [==============================] - 5s 197ms/step\n",
            "\n",
            " EPOCH 44/50\n",
            "27/27 [==============================] - 5s 197ms/step\n",
            "\n",
            " EPOCH 45/50\n",
            "27/27 [==============================] - 5s 197ms/step\n",
            "\n",
            " EPOCH 46/50\n",
            "27/27 [==============================] - 5s 197ms/step\n",
            "\n",
            " EPOCH 47/50\n",
            "27/27 [==============================] - 5s 197ms/step\n",
            "\n",
            " EPOCH 48/50\n",
            "27/27 [==============================] - 5s 197ms/step\n",
            "\n",
            " EPOCH 49/50\n",
            "27/27 [==============================] - 5s 197ms/step\n",
            "\n",
            " EPOCH 50/50\n",
            "27/27 [==============================] - 5s 197ms/step\n"
          ]
        }
      ],
      "source": [
        "train(train_data, t_epoch)"
      ],
      "metadata": {
        "pycharm": {
          "name": "#%%\n",
          "is_executing": true
        },
        "id": "-pTuhqSkShmQ",
        "outputId": "ebc2da97-e66e-474d-926c-2e4b4d14de23",
        "colab": {
          "base_uri": "https://localhost:8080/"
        }
      }
    },
    {
      "cell_type": "markdown",
      "source": [
        "## Evaluating Model"
      ],
      "metadata": {
        "id": "0msHXIq8SXMo"
      }
    },
    {
      "cell_type": "code",
      "execution_count": 47,
      "outputs": [],
      "source": [
        "# Importing metrics\n",
        "from tensorflow.python.keras.metrics import Precision, Recall"
      ],
      "metadata": {
        "pycharm": {
          "name": "#%%\n"
        },
        "id": "kCA8SzShShmQ"
      }
    },
    {
      "cell_type": "code",
      "source": [
        "test_input, test_val, y_true = test_data.as_numpy_iterator().next()"
      ],
      "metadata": {
        "id": "1K9Y0T7QR36l"
      },
      "execution_count": 48,
      "outputs": []
    },
    {
      "cell_type": "code",
      "source": [
        "y_hat = siamese_model.predict([test_input, test_val])\n",
        "y_hat"
      ],
      "metadata": {
        "colab": {
          "base_uri": "https://localhost:8080/"
        },
        "id": "UyvHlW7bSxFa",
        "outputId": "66441ac1-57c5-4ca6-bcfb-c6db510f5214"
      },
      "execution_count": 49,
      "outputs": [
        {
          "output_type": "execute_result",
          "data": {
            "text/plain": [
              "array([[3.1117170e-07],\n",
              "       [6.0848965e-10],\n",
              "       [8.7120952e-07],\n",
              "       [9.9999988e-01],\n",
              "       [2.7927316e-10],\n",
              "       [1.0000000e+00],\n",
              "       [4.3116003e-08],\n",
              "       [1.0000000e+00],\n",
              "       [5.7885563e-10],\n",
              "       [9.9105013e-10],\n",
              "       [1.8000793e-09],\n",
              "       [4.9040894e-10],\n",
              "       [9.9999893e-01],\n",
              "       [2.7516389e-09],\n",
              "       [1.0000000e+00],\n",
              "       [9.9999988e-01]], dtype=float32)"
            ]
          },
          "metadata": {},
          "execution_count": 49
        }
      ]
    },
    {
      "cell_type": "markdown",
      "source": [
        "## Metrics"
      ],
      "metadata": {
        "id": "FsM-J1PiTyJ3"
      }
    },
    {
      "cell_type": "code",
      "source": [
        "# Post processing results\n",
        "[1 if prediction > 0.5 else 0 for prediction in y_hat]"
      ],
      "metadata": {
        "colab": {
          "base_uri": "https://localhost:8080/"
        },
        "id": "8jWLmn5SS_hl",
        "outputId": "4ac3cc02-c043-40fd-fede-9251ab47cba2"
      },
      "execution_count": 50,
      "outputs": [
        {
          "output_type": "execute_result",
          "data": {
            "text/plain": [
              "[0, 0, 0, 1, 0, 1, 0, 1, 0, 0, 0, 0, 1, 0, 1, 1]"
            ]
          },
          "metadata": {},
          "execution_count": 50
        }
      ]
    },
    {
      "cell_type": "code",
      "source": [
        "# Creating a metric object\n",
        "m = Recall()\n",
        "# Calculating the recall value\n",
        "m.update_state(y_true, y_hat)\n",
        "# Return Recall result\n",
        "m.result().numpy()"
      ],
      "metadata": {
        "colab": {
          "base_uri": "https://localhost:8080/"
        },
        "id": "ps_103tYTNVl",
        "outputId": "bea195ad-2e0b-4a29-9dd6-789f4ccdb4ce"
      },
      "execution_count": 51,
      "outputs": [
        {
          "output_type": "execute_result",
          "data": {
            "text/plain": [
              "1.0"
            ]
          },
          "metadata": {},
          "execution_count": 51
        }
      ]
    },
    {
      "cell_type": "code",
      "source": [
        "# Creating a metric object\n",
        "m = Precision()\n",
        "# Calculating the recall value\n",
        "m.update_state(y_true, y_hat)\n",
        "# Return Precision result\n",
        "m.result().numpy()"
      ],
      "metadata": {
        "colab": {
          "base_uri": "https://localhost:8080/"
        },
        "id": "pThCb-JlTal6",
        "outputId": "463c88ee-a6f9-4388-f421-7efdeeec6d40"
      },
      "execution_count": 52,
      "outputs": [
        {
          "output_type": "execute_result",
          "data": {
            "text/plain": [
              "1.0"
            ]
          },
          "metadata": {},
          "execution_count": 52
        }
      ]
    },
    {
      "cell_type": "markdown",
      "source": [
        "## Viz result"
      ],
      "metadata": {
        "id": "7CVtO9cgT1Pg"
      }
    },
    {
      "cell_type": "code",
      "source": [
        "plt.figure(figsize = (18,8))\n",
        "plt.subplot(1,2,1)\n",
        "plt.imshow(test_input[0])\n",
        "plt.subplot(1,2,2)\n",
        "plt.imshow(test_val[0])"
      ],
      "metadata": {
        "colab": {
          "base_uri": "https://localhost:8080/",
          "height": 503
        },
        "id": "rVVdyanFTtu2",
        "outputId": "8b5c15b2-8614-4b72-c0ec-667e48b056e1"
      },
      "execution_count": 53,
      "outputs": [
        {
          "output_type": "execute_result",
          "data": {
            "text/plain": [
              "<matplotlib.image.AxesImage at 0x7fea4a0c2990>"
            ]
          },
          "metadata": {},
          "execution_count": 53
        },
        {
          "output_type": "display_data",
          "data": {
            "text/plain": [
              "<Figure size 1296x576 with 2 Axes>"
            ],
            "image/png": "[encoded data removed]"
          },
          "metadata": {
            "needs_background": "light"
          }
        }
      ]
    },
    {
      "cell_type": "markdown",
      "source": [
        "## Save Model"
      ],
      "metadata": {
        "id": "veP7zNcKURfw"
      }
    },
    {
      "cell_type": "code",
      "source": [
        "# Saving model\n",
        "siamese_model.save('siamesemodel.h5')"
      ],
      "metadata": {
        "id": "aVuB9UdNUJbB"
      },
      "execution_count": 54,
      "outputs": []
    },
    {
      "cell_type": "code",
      "source": [
        "# Reload model \n",
        "model = tf.keras.models.load_model('siamesemodel.h5', \n",
        "                                   custom_objects={'L1Dist':L1Dist})"
      ],
      "metadata": {
        "colab": {
          "base_uri": "https://localhost:8080/"
        },
        "id": "Brs0R1g9Ug7K",
        "outputId": "b43086c8-3a31-489d-c357-54d478f8119d"
      },
      "execution_count": 55,
      "outputs": [
        {
          "output_type": "stream",
          "name": "stderr",
          "text": [
            "WARNING:tensorflow:No training configuration found in the save file, so the model was *not* compiled. Compile it manually.\n"
          ]
        }
      ]
    },
    {
      "cell_type": "code",
      "source": [
        "# Make predictions with reloaded model\n",
        "model.predict([test_input, test_val])"
      ],
      "metadata": {
        "id": "j19-wDHKVo15",
        "colab": {
          "base_uri": "https://localhost:8080/"
        },
        "outputId": "59d983ab-a328-4c9a-c4ae-f83fe3a6c3ba"
      },
      "execution_count": 56,
      "outputs": [
        {
          "output_type": "execute_result",
          "data": {
            "text/plain": [
              "array([[3.1117170e-07],\n",
              "       [6.0848965e-10],\n",
              "       [8.7120952e-07],\n",
              "       [9.9999988e-01],\n",
              "       [2.7927316e-10],\n",
              "       [1.0000000e+00],\n",
              "       [4.3116003e-08],\n",
              "       [1.0000000e+00],\n",
              "       [5.7885563e-10],\n",
              "       [9.9105013e-10],\n",
              "       [1.8000793e-09],\n",
              "       [4.9040894e-10],\n",
              "       [9.9999893e-01],\n",
              "       [2.7516389e-09],\n",
              "       [1.0000000e+00],\n",
              "       [9.9999988e-01]], dtype=float32)"
            ]
          },
          "metadata": {},
          "execution_count": 56
        }
      ]
    },
    {
      "cell_type": "code",
      "source": [
        "model.summary()"
      ],
      "metadata": {
        "colab": {
          "base_uri": "https://localhost:8080/"
        },
        "id": "0zlu3ualwAC1",
        "outputId": "1e44c8d9-e64c-4a85-c9c8-e0b3ba9778fd"
      },
      "execution_count": 57,
      "outputs": [
        {
          "output_type": "stream",
          "name": "stdout",
          "text": [
            "Model: \"siameseNetwork\"\n",
            "__________________________________________________________________________________________________\n",
            "Layer (type)                    Output Shape         Param #     Connected to                     \n",
            "==================================================================================================\n",
            "input_img (InputLayer)          [(None, 100, 100, 3) 0                                            \n",
            "__________________________________________________________________________________________________\n",
            "validation_img (InputLayer)     [(None, 100, 100, 3) 0                                            \n",
            "__________________________________________________________________________________________________\n",
            "embedding (Functional)          (None, 4096)         38960448    input_img[0][0]                  \n",
            "                                                                 validation_img[0][0]             \n",
            "__________________________________________________________________________________________________\n",
            "l1_dist_2 (L1Dist)              (None, 4096)         0           embedding[0][0]                  \n",
            "                                                                 embedding[1][0]                  \n",
            "__________________________________________________________________________________________________\n",
            "dense_1 (Dense)                 (None, 1)            4097        l1_dist_2[0][0]                  \n",
            "==================================================================================================\n",
            "Total params: 38,964,545\n",
            "Trainable params: 38,964,545\n",
            "Non-trainable params: 0\n",
            "__________________________________________________________________________________________________\n"
          ]
        }
      ]
    },
    {
      "cell_type": "markdown",
      "source": [
        "## Real time tests"
      ],
      "metadata": {
        "id": "0KRSNQq9wlxD"
      }
    },
    {
      "cell_type": "markdown",
      "source": [
        "# Verification Function"
      ],
      "metadata": {
        "id": "QlkHmShKwoaN"
      }
    },
    {
      "cell_type": "code",
      "source": [
        "def verify(model, detection_threshold, verification_threshold):\n",
        "  # Build results array\n",
        "  results = []\n",
        "  for image in os.listdir(os.path.join('application_data', 'verification_images')):\n",
        "    input_img = preprocess(os.path.join('application_data','input_image','photo.jpg'))\n",
        "    validation_img = preprocess(os.path.join('application_data','verification_images',image))\n",
        "\n",
        "    result = model.predict(list(np.expand_dims([input_img, validation_img], axis = 1)))\n",
        "    results.append(result)\n",
        "  # Detection threshold: Metric above which a prediction is considered positive\n",
        "\n",
        "  detection = np.sum(np.array(results) > detection_threshold)  \n",
        "  # Verification threshold: proportion of positive predicition / total positive samples\n",
        "  verification = detection / len(os.listdir(os.path.join('application_data', 'verification_images')))\n",
        "  verified = verification > verification_threshold\n",
        "  return results, verified"
      ],
      "metadata": {
        "id": "gsCaynddwETl"
      },
      "execution_count": 83,
      "outputs": []
    },
    {
      "cell_type": "markdown",
      "source": [
        "# OpenCV Real time Verification"
      ],
      "metadata": {
        "id": "nYjgnVujwshb"
      }
    },
    {
      "cell_type": "code",
      "source": [
        "from IPython.display import display, Javascript\n",
        "from google.colab.output import eval_js\n",
        "from base64 import b64decode\n",
        "\n",
        "def take_photo(filename='/content/application_data/input_image/photo.jpg', quality=0.8):\n",
        "  js = Javascript('''\n",
        "    async function takePhoto(quality) {\n",
        "      const div = document.createElement('div');\n",
        "      const capture = document.createElement('button');\n",
        "      const quit = document.createElement('button');\n",
        "      capture.textContent = 'Capture';\n",
        "      quit.textContent = 'Quit';\n",
        "      div.appendChild(capture);\n",
        "      div.appendChild(quit);\n",
        "\n",
        "      const video = document.createElement('video');\n",
        "      video.style.display = 'block';\n",
        "      const stream = await navigator.mediaDevices.getUserMedia({video: true});\n",
        "\n",
        "      document.body.appendChild(div);\n",
        "      div.appendChild(video);\n",
        "      video.srcObject = stream;\n",
        "      await video.play();\n",
        "\n",
        "      // Resize the output to fit the video element.\n",
        "      google.colab.output.setIframeHeight(document.documentElement.scrollHeight, true);\n",
        "\n",
        "      // Wait for Capture to be clicked.\n",
        "      await new Promise((resolve) => capture.onclick = resolve);\n",
        "\n",
        "      const canvas = document.createElement('canvas');\n",
        "      canvas.width = video.videoWidth;\n",
        "      canvas.height = video.videoHeight;\n",
        "      canvas.getContext('2d').drawImage(video, 0, 0);\n",
        "      stream.getVideoTracks()[0].stop();\n",
        "      div.remove();\n",
        "      return canvas.toDataURL('image/jpeg', quality);\n",
        "    }\n",
        "    ''')\n",
        "  display(js)\n",
        "  data = eval_js('takePhoto({})'.format(quality))\n",
        "  binary = b64decode(data.split(',')[1])\n",
        "  with open(filename, 'wb') as f:\n",
        "    f.write(binary)\n",
        "  return filename"
      ],
      "metadata": {
        "id": "YzNcLoMDeI0L"
      },
      "execution_count": 68,
      "outputs": []
    },
    {
      "cell_type": "code",
      "source": [
        "from IPython.display import Image\n",
        "try:\n",
        "  filename = take_photo()\n",
        "  print('Saved to {}'.format(filename))\n",
        "  \n",
        "  # Show the image which was just taken.\n",
        "  display(Image(filename))\n",
        "except Exception as err:\n",
        "  # Errors will be thrown if the user does not have a webcam or if they do not\n",
        "  # grant the page permission to access it.\n",
        "  print(str(err))"
      ],
      "metadata": {
        "colab": {
          "base_uri": "https://localhost:8080/",
          "height": 515
        },
        "id": "rG4RQsDCeI0L",
        "outputId": "d524b687-2f35-4d03-bc95-9886f85b6cb0"
      },
      "execution_count": 74,
      "outputs": [
        {
          "output_type": "display_data",
          "data": {
            "text/plain": [
              "<IPython.core.display.Javascript object>"
            ],
            "application/javascript": [
              "\n",
              "    async function takePhoto(quality) {\n",
              "      const div = document.createElement('div');\n",
              "      const capture = document.createElement('button');\n",
              "      const quit = document.createElement('button');\n",
              "      capture.textContent = 'Capture';\n",
              "      quit.textContent = 'Quit';\n",
              "      div.appendChild(capture);\n",
              "      div.appendChild(quit);\n",
              "\n",
              "      const video = document.createElement('video');\n",
              "      video.style.display = 'block';\n",
              "      const stream = await navigator.mediaDevices.getUserMedia({video: true});\n",
              "\n",
              "      document.body.appendChild(div);\n",
              "      div.appendChild(video);\n",
              "      video.srcObject = stream;\n",
              "      await video.play();\n",
              "\n",
              "      // Resize the output to fit the video element.\n",
              "      google.colab.output.setIframeHeight(document.documentElement.scrollHeight, true);\n",
              "\n",
              "      // Wait for Capture to be clicked.\n",
              "      await new Promise((resolve) => capture.onclick = resolve);\n",
              "\n",
              "      const canvas = document.createElement('canvas');\n",
              "      canvas.width = video.videoWidth;\n",
              "      canvas.height = video.videoHeight;\n",
              "      canvas.getContext('2d').drawImage(video, 0, 0);\n",
              "      stream.getVideoTracks()[0].stop();\n",
              "      div.remove();\n",
              "      return canvas.toDataURL('image/jpeg', quality);\n",
              "    }\n",
              "    "
            ]
          },
          "metadata": {}
        },
        {
          "output_type": "stream",
          "name": "stdout",
          "text": [
            "Saved to /content/application_data/input_image/photo.jpg\n"
          ]
        },
        {
          "output_type": "display_data",
          "data": {
            "text/plain": [
              "<IPython.core.display.Image object>"
            ],
            "image/jpeg": "[encoded data removed]"
          },
          "metadata": {}
        }
      ]
    },
    {
      "cell_type": "code",
      "source": [
        "frame = cv2.imread(filename)"
      ],
      "metadata": {
        "id": "zclXl_U5hWOZ"
      },
      "execution_count": 80,
      "outputs": []
    },
    {
      "cell_type": "code",
      "source": [
        "# Run verification\n",
        "results, verified = verify(model, 0.5, 0.5)\n",
        "print(verified)"
      ],
      "metadata": {
        "colab": {
          "base_uri": "https://localhost:8080/"
        },
        "id": "0h_Cl_DSj8Ue",
        "outputId": "3540f9fa-1c97-47fc-dcf2-0ff37295a05c"
      },
      "execution_count": 84,
      "outputs": [
        {
          "output_type": "stream",
          "name": "stdout",
          "text": [
            "True\n"
          ]
        }
      ]
    },
    {
      "cell_type": "code",
      "source": [
        "np.sum(np.squeeze(results) > 0.5)"
      ],
      "metadata": {
        "colab": {
          "base_uri": "https://localhost:8080/"
        },
        "id": "QTQ_kaTekwul",
        "outputId": "f22e953f-f3c6-41a1-d27e-10d67e0027ef"
      },
      "execution_count": 87,
      "outputs": [
        {
          "output_type": "execute_result",
          "data": {
            "text/plain": [
              "35"
            ]
          },
          "metadata": {},
          "execution_count": 87
        }
      ]
    },
    {
      "cell_type": "code",
      "source": [
        ""
      ],
      "metadata": {
        "id": "NWzOXaJIlXst"
      },
      "execution_count": null,
      "outputs": []
    }
  ],
  "metadata": {
    "kernelspec": {
      "display_name": "Python 3",
      "language": "python",
      "name": "python3"
    },
    "language_info": {
      "codemirror_mode": {
        "name": "ipython",
        "version": 2
      },
      "file_extension": ".py",
      "mimetype": "text/x-python",
      "name": "python",
      "nbconvert_exporter": "python",
      "pygments_lexer": "ipython2",
      "version": "2.7.6"
    },
    "colab": {
      "name": "siamese_model.ipynb",
      "provenance": [],
      "collapsed_sections": [
        "0KRSNQq9wlxD"
      ],
      "include_colab_link": true
    },
    "accelerator": "GPU",
    "gpuClass": "standard"
  },
  "nbformat": 4,
  "nbformat_minor": 0
}