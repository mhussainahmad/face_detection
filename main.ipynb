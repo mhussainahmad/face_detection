{
  "nbformat": 4,
  "nbformat_minor": 0,
  "metadata": {
    "colab": {
      "name": "main.ipynb",
      "provenance": [],
      "collapsed_sections": [],
      "mount_file_id": "https://gist.github.com/mhussainahmad/d7ba1d0086926eee89afcffd4442cedb#file-main-ipynb",
      "authorship_tag": "ABX9TyMnuk7e/KLy0ovNYYXWVjGf",
      "include_colab_link": true
    },
    "kernelspec": {
      "name": "python3",
      "display_name": "Python 3"
    },
    "language_info": {
      "name": "python"
    },
    "accelerator": "GPU",
    "gpuClass": "standard"
  },
  "cells": [
    {
      "cell_type": "markdown",
      "metadata": {
        "id": "view-in-github",
        "colab_type": "text"
      },
      "source": [
        "<a href=\"https://colab.research.google.com/github/mhussainahmad/face_detection/blob/main/main.ipynb\" target=\"_parent\"><img src=\"https://colab.research.google.com/assets/colab-badge.svg\" alt=\"Open In Colab\"/></a>"
      ]
    },
    {
      "cell_type": "code",
      "source": [
        "!pip install tensorflow tensorflow-gpu opencv-python matplotlib"
      ],
      "metadata": {
        "id": "OFj7INq01cGf"
      },
      "execution_count": null,
      "outputs": []
    },
    {
      "cell_type": "code",
      "source": [
        "import os\n",
        "import numpy as np\n",
        "import matplotlib.pyplot as plt\n",
        "import cv2\n",
        "import random"
      ],
      "metadata": {
        "id": "OXhxYytH3NlL"
      },
      "execution_count": 4,
      "outputs": []
    },
    {
      "cell_type": "code",
      "source": [
        "from tensorflow.python.keras.models import Model\n",
        "from tensorflow.python.keras.layers import Layer, Conv2D, MaxPooling2D, Dense, Input, Flatten\n",
        "import tensorflow as tf"
      ],
      "metadata": {
        "id": "bmcNLyaH6TSp"
      },
      "execution_count": 3,
      "outputs": []
    },
    {
      "cell_type": "code",
      "source": [
        "tf.test.gpu_device_name()"
      ],
      "metadata": {
        "id": "DD-VIKGo6VHE",
        "outputId": "5fcd66e4-33cf-4bac-a954-587caa1822bb",
        "colab": {
          "base_uri": "https://localhost:8080/",
          "height": 36
        }
      },
      "execution_count": 6,
      "outputs": [
        {
          "output_type": "execute_result",
          "data": {
            "text/plain": [
              "'/device:GPU:0'"
            ],
            "application/vnd.google.colaboratory.intrinsic+json": {
              "type": "string"
            }
          },
          "metadata": {},
          "execution_count": 6
        }
      ]
    },
    {
      "cell_type": "code",
      "source": [
        "gpus = tf.config.experimental.list_physical_devices('GPU')\n",
        "for gpu in gpus:\n",
        "    tf.config.experimental.set_memory_growth(gpu, True)"
      ],
      "metadata": {
        "id": "nAddkocB6-LP"
      },
      "execution_count": 8,
      "outputs": []
    },
    {
      "cell_type": "code",
      "source": [
        "!wget http://vis-www.cs.umass.edu/lfw/lfw.tgz"
      ],
      "metadata": {
        "id": "WYCoJtVj86I3",
        "outputId": "c00522fa-7062-4f1f-d4ca-5ce0d58d997c",
        "colab": {
          "base_uri": "https://localhost:8080/"
        }
      },
      "execution_count": 11,
      "outputs": [
        {
          "output_type": "stream",
          "name": "stdout",
          "text": [
            "--2022-08-05 21:40:26--  http://vis-www.cs.umass.edu/lfw/lfw.tgz\n",
            "Resolving vis-www.cs.umass.edu (vis-www.cs.umass.edu)... 128.119.244.95\n",
            "Connecting to vis-www.cs.umass.edu (vis-www.cs.umass.edu)|128.119.244.95|:80... connected.\n",
            "HTTP request sent, awaiting response... 200 OK\n",
            "Length: 180566744 (172M) [application/x-gzip]\n",
            "Saving to: ‘lfw.tgz’\n",
            "\n",
            "lfw.tgz             100%[===================>] 172.20M  37.7MB/s    in 5.1s    \n",
            "\n",
            "2022-08-05 21:40:32 (34.0 MB/s) - ‘lfw.tgz’ saved [180566744/180566744]\n",
            "\n"
          ]
        }
      ]
    },
    {
      "cell_type": "code",
      "source": [
        "POS_PATH = os.path.join(\"data\", 'positive')\n",
        "NEG_PATH = os.path.join(\"data\", 'negative')\n",
        "ANC_PATH = os.path.join(\"data\", 'anchor')"
      ],
      "metadata": {
        "id": "73kwkWiQ7CmM"
      },
      "execution_count": 12,
      "outputs": []
    },
    {
      "cell_type": "code",
      "source": [
        "os.makedirs(POS_PATH, exist_ok=True)\n",
        "os.makedirs(NEG_PATH, exist_ok=True)\n",
        "os.makedirs(ANC_PATH, exist_ok=True)"
      ],
      "metadata": {
        "id": "HCbvCJTv7EY_"
      },
      "execution_count": 13,
      "outputs": []
    },
    {
      "cell_type": "code",
      "source": [
        "!tar -xf lfw.tgz"
      ],
      "metadata": {
        "id": "c4IPaAEh7GQI"
      },
      "execution_count": 14,
      "outputs": []
    },
    {
      "cell_type": "code",
      "source": [
        "for directory in os.listdir('lfw'):\n",
        "    for files in os.listdir(os.path.join('lfw', directory)):\n",
        "        EX_PATH = os.path.join('lfw', directory, files)\n",
        "        NEW_PATH = os.path.join(NEG_PATH, files)\n",
        "        os.replace(EX_PATH, NEW_PATH)"
      ],
      "metadata": {
        "id": "TW3ilshe9GBf"
      },
      "execution_count": 15,
      "outputs": []
    },
    {
      "cell_type": "code",
      "source": [
        "anchor = tf.data.Dataset.list_files(ANC_PATH+'/*.jpg').take(300)\n",
        "positive = tf.data.Dataset.list_files(POS_PATH+'/*.jpg').take(300)\n",
        "negative = tf.data.Dataset.list_files(NEG_PATH+'/*.jpg').take(300)"
      ],
      "metadata": {
        "id": "raGKanu99KVS"
      },
      "execution_count": 23,
      "outputs": []
    },
    {
      "cell_type": "code",
      "source": [
        "dir_test = anchor.as_numpy_iterator()"
      ],
      "metadata": {
        "id": "7aVbtH2B949X"
      },
      "execution_count": 24,
      "outputs": []
    },
    {
      "cell_type": "code",
      "source": [
        "dir_test.next()"
      ],
      "metadata": {
        "id": "Jcc9F1Kw974u",
        "outputId": "da1b4d02-52be-4b4d-88a4-17e5074ed77b",
        "colab": {
          "base_uri": "https://localhost:8080/"
        }
      },
      "execution_count": 26,
      "outputs": [
        {
          "output_type": "execute_result",
          "data": {
            "text/plain": [
              "b'data/anchor/887e573b-117d-11ed-b9e2-6c02e06ff1a3.jpg'"
            ]
          },
          "metadata": {},
          "execution_count": 26
        }
      ]
    },
    {
      "cell_type": "code",
      "source": [
        "## Preprocessing the images\n",
        "def preprocess(file_path):\n",
        "    # Reading image from the file path\n",
        "    byte_img = tf.io.read_file(file_path)\n",
        "    # Loading the image\n",
        "    img = tf.io.decode_jpeg(byte_img)\n",
        "    # Preprocessing the image - Resizing to (100,100,3)\n",
        "    img = tf.image.resize(img, (100,100))\n",
        "    # Scaling image to be between 0 and 1\n",
        "    img = img/255.0\n",
        "    # Returning the image\n",
        "    return img"
      ],
      "metadata": {
        "id": "enPukopf-bz1"
      },
      "execution_count": 27,
      "outputs": []
    },
    {
      "cell_type": "code",
      "source": [
        "img = preprocess('data/anchor/887e573b-117d-11ed-b9e2-6c02e06ff1a3.jpg')"
      ],
      "metadata": {
        "id": "wsatOAZT-fLZ"
      },
      "execution_count": 29,
      "outputs": []
    },
    {
      "cell_type": "code",
      "source": [
        "# (anchor, positive) => 1,1,1,1,1\n",
        "# (anchor, positive) => 0,0,0,0,0\n",
        "positives = tf.data.Dataset.zip((anchor, positive, tf.data.Dataset.from_tensor_slices(tf.ones(len(anchor)))))\n",
        "negatives = tf.data.Dataset.zip((anchor, negative, tf.data.Dataset.from_tensor_slices(tf.zeros(len(anchor)))))\n",
        "data = positives.concatenate(negatives)"
      ],
      "metadata": {
        "id": "nns14ADV-hIw"
      },
      "execution_count": 30,
      "outputs": []
    },
    {
      "cell_type": "code",
      "source": [
        "samples = data.as_numpy_iterator()"
      ],
      "metadata": {
        "id": "JldrtXsb-oGF"
      },
      "execution_count": 31,
      "outputs": []
    },
    {
      "cell_type": "code",
      "source": [
        "example = samples.next()"
      ],
      "metadata": {
        "id": "q79pG3vz-pcO"
      },
      "execution_count": 32,
      "outputs": []
    },
    {
      "cell_type": "code",
      "source": [
        "example"
      ],
      "metadata": {
        "id": "OE1njhXB-ql_",
        "outputId": "ce7254e4-3a9e-4944-fa40-ae3bf520f36f",
        "colab": {
          "base_uri": "https://localhost:8080/"
        }
      },
      "execution_count": 33,
      "outputs": [
        {
          "output_type": "execute_result",
          "data": {
            "text/plain": [
              "(b'data/anchor/1bfef1d0-117e-11ed-bd17-6c02e06ff1a3.jpg',\n",
              " b'data/positive/8a9a6efc-117f-11ed-8a14-6c02e06ff1a3.jpg',\n",
              " 1.0)"
            ]
          },
          "metadata": {},
          "execution_count": 33
        }
      ]
    },
    {
      "cell_type": "code",
      "source": [
        "def preprocess_twin(input_img, validation_img, label):\n",
        "    return preprocess(input_img), preprocess(validation_img), label"
      ],
      "metadata": {
        "id": "7qbJwdKF-sFY"
      },
      "execution_count": 34,
      "outputs": []
    },
    {
      "cell_type": "code",
      "source": [
        "res = preprocess_twin(*example)"
      ],
      "metadata": {
        "id": "AP9OsK2b-t8f"
      },
      "execution_count": 35,
      "outputs": []
    },
    {
      "cell_type": "code",
      "source": [
        "res[2]"
      ],
      "metadata": {
        "id": "VmsjT-FR-vjm",
        "outputId": "68f4ef30-9c3b-404d-edcd-023fb8f15ad7",
        "colab": {
          "base_uri": "https://localhost:8080/"
        }
      },
      "execution_count": 36,
      "outputs": [
        {
          "output_type": "execute_result",
          "data": {
            "text/plain": [
              "1.0"
            ]
          },
          "metadata": {},
          "execution_count": 36
        }
      ]
    },
    {
      "cell_type": "code",
      "source": [
        "# Build dataloader pipeline\n",
        "data = data.map(preprocess_twin)\n",
        "# Caching images to memory\n",
        "data = data.cache()\n",
        "# Shuffling the data\n",
        "data = data.shuffle(buffer_size=1024)"
      ],
      "metadata": {
        "id": "Uka5WOSQ-wxY"
      },
      "execution_count": 37,
      "outputs": []
    },
    {
      "cell_type": "code",
      "source": [
        "# Training Partition\n",
        "# Grabbing certain percentage of the data for training\n",
        "train_data = data.take(round(len(data)*.7))\n",
        "# Creating batches of 16 images\n",
        "train_data = train_data.batch(16)\n",
        "# Preprocessing next set of images\n",
        "train_data = train_data.prefetch(0)"
      ],
      "metadata": {
        "id": "qYVHVLXe-ys8"
      },
      "execution_count": 38,
      "outputs": []
    },
    {
      "cell_type": "code",
      "source": [
        "# Validation Partition\n",
        "test_data = data.skip(round(len(data)*.7))\n",
        "test_data = test_data.take(round(len(data)*.3))\n",
        "test_data = test_data.batch(16)\n",
        "test_data = test_data.prefetch(0)"
      ],
      "metadata": {
        "id": "ZKTP3UP_-0HG"
      },
      "execution_count": 39,
      "outputs": []
    },
    {
      "cell_type": "code",
      "source": [
        "def make_embedding():\n",
        "    inp = Input(shape=(100,100,3), name='input_image')\n",
        "\n",
        "    # First block\n",
        "    c1 = Conv2D(64, (10,10), activation='relu')(inp)\n",
        "    m1 = MaxPooling2D(64, (2,2), padding='same')(c1)\n",
        "\n",
        "    #Second block\n",
        "    c2 = Conv2D(128,(7,7), activation='relu')(m1)\n",
        "    m2 = MaxPooling2D(64,(2,2), padding=\"same\")(c2)\n",
        "\n",
        "    # Third block\n",
        "    c3 = Conv2D(128,(4,4), activation='relu')(m2)\n",
        "    m3 = MaxPooling2D(64,(2,2), padding=\"same\")(c3)\n",
        "\n",
        "    # Fourth block\n",
        "    c4 = Conv2D(256,(4,4), activation='relu')(m3)\n",
        "    f1 = Flatten()(c4)\n",
        "    d1 = Dense(4096, activation='sigmoid')(f1)\n",
        "\n",
        "    return Model(inputs=[inp] , outputs=[d1], name='embedding')"
      ],
      "metadata": {
        "id": "9hmX2dD6-15f"
      },
      "execution_count": 40,
      "outputs": []
    },
    {
      "cell_type": "code",
      "source": [
        "embedding = make_embedding()"
      ],
      "metadata": {
        "id": "6ZJ-Hba0-30H"
      },
      "execution_count": 41,
      "outputs": []
    },
    {
      "cell_type": "code",
      "source": [
        "embedding.summary()"
      ],
      "metadata": {
        "id": "cBqubMei-5Xq",
        "outputId": "7532e468-b880-4f2a-bbeb-12f4848ee3d5",
        "colab": {
          "base_uri": "https://localhost:8080/"
        }
      },
      "execution_count": 42,
      "outputs": [
        {
          "output_type": "stream",
          "name": "stdout",
          "text": [
            "Model: \"embedding\"\n",
            "_________________________________________________________________\n",
            "Layer (type)                 Output Shape              Param #   \n",
            "=================================================================\n",
            "input_image (InputLayer)     [(None, 100, 100, 3)]     0         \n",
            "_________________________________________________________________\n",
            "conv2d (Conv2D)              (None, 91, 91, 64)        19264     \n",
            "_________________________________________________________________\n",
            "max_pooling2d (MaxPooling2D) (None, 46, 46, 64)        0         \n",
            "_________________________________________________________________\n",
            "conv2d_1 (Conv2D)            (None, 40, 40, 128)       401536    \n",
            "_________________________________________________________________\n",
            "max_pooling2d_1 (MaxPooling2 (None, 20, 20, 128)       0         \n",
            "_________________________________________________________________\n",
            "conv2d_2 (Conv2D)            (None, 17, 17, 128)       262272    \n",
            "_________________________________________________________________\n",
            "max_pooling2d_2 (MaxPooling2 (None, 9, 9, 128)         0         \n",
            "_________________________________________________________________\n",
            "conv2d_3 (Conv2D)            (None, 6, 6, 256)         524544    \n",
            "_________________________________________________________________\n",
            "flatten (Flatten)            (None, 9216)              0         \n",
            "_________________________________________________________________\n",
            "dense (Dense)                (None, 4096)              37752832  \n",
            "=================================================================\n",
            "Total params: 38,960,448\n",
            "Trainable params: 38,960,448\n",
            "Non-trainable params: 0\n",
            "_________________________________________________________________\n"
          ]
        }
      ]
    },
    {
      "cell_type": "code",
      "source": [
        "# Siamese L1 Distance class\n",
        "class L1Dist(Layer):\n",
        "    # Init method - inheritance from Layer class\n",
        "    def __init__(self, **kwargs):\n",
        "        super().__init__()\n",
        "\n",
        "    # Similarity Calculation\n",
        "    def call(self, input_embedding, validation_embedding):\n",
        "        return tf.math.abs(input_embedding - validation_embedding)"
      ],
      "metadata": {
        "id": "XFGp09rg-6kI"
      },
      "execution_count": 43,
      "outputs": []
    },
    {
      "cell_type": "code",
      "source": [
        "l1 = L1Dist()"
      ],
      "metadata": {
        "id": "HNsljgFZ-9-J"
      },
      "execution_count": 44,
      "outputs": []
    },
    {
      "cell_type": "code",
      "source": [
        "def make_siamese_model():\n",
        "\n",
        "    # Anchor image input in the network\n",
        "    input_image = Input(shape=(100,100,3), name='input_img')\n",
        "    # Validation image input in the network\n",
        "    validation_image = Input(shape=(100,100,3), name='validation_img')\n",
        "\n",
        "    # combine siamese distance layer with the embedding layer\n",
        "    siamese_layer = L1Dist()\n",
        "    siamese_layer._name = 'distance'\n",
        "    distances = siamese_layer(embedding(input_image), embedding(validation_image))\n",
        "\n",
        "    # Classification layer\n",
        "    classifier = Dense(1, activation='sigmoid')(distances)\n",
        "    return Model(inputs=[input_image, validation_image], outputs=classifier, name='siameseNetwork')"
      ],
      "metadata": {
        "id": "DjxJ7h-B_AYd"
      },
      "execution_count": 45,
      "outputs": []
    },
    {
      "cell_type": "code",
      "source": [
        "siamese_model = make_siamese_model()"
      ],
      "metadata": {
        "id": "TuKfPXr4_Chj"
      },
      "execution_count": 47,
      "outputs": []
    },
    {
      "cell_type": "code",
      "source": [
        "siamese_model.summary()"
      ],
      "metadata": {
        "id": "bseFIF2C_HNu",
        "outputId": "576d00f9-8217-4bbe-a326-32b43bf316c1",
        "colab": {
          "base_uri": "https://localhost:8080/"
        }
      },
      "execution_count": 48,
      "outputs": [
        {
          "output_type": "stream",
          "name": "stdout",
          "text": [
            "Model: \"siameseNetwork\"\n",
            "__________________________________________________________________________________________________\n",
            "Layer (type)                    Output Shape         Param #     Connected to                     \n",
            "==================================================================================================\n",
            "input_img (InputLayer)          [(None, 100, 100, 3) 0                                            \n",
            "__________________________________________________________________________________________________\n",
            "validation_img (InputLayer)     [(None, 100, 100, 3) 0                                            \n",
            "__________________________________________________________________________________________________\n",
            "embedding (Functional)          (None, 4096)         38960448    input_img[0][0]                  \n",
            "                                                                 validation_img[0][0]             \n",
            "__________________________________________________________________________________________________\n",
            "distance (L1Dist)               (None, 4096)         0           embedding[2][0]                  \n",
            "                                                                 embedding[3][0]                  \n",
            "__________________________________________________________________________________________________\n",
            "dense_2 (Dense)                 (None, 1)            4097        distance[0][0]                   \n",
            "==================================================================================================\n",
            "Total params: 38,964,545\n",
            "Trainable params: 38,964,545\n",
            "Non-trainable params: 0\n",
            "__________________________________________________________________________________________________\n"
          ]
        }
      ]
    },
    {
      "cell_type": "code",
      "source": [
        "binary_cross_loss = tf.losses.BinaryCrossentropy()"
      ],
      "metadata": {
        "id": "9W7Bj3J1_Jfa"
      },
      "execution_count": 49,
      "outputs": []
    },
    {
      "cell_type": "code",
      "source": [
        "optimizer = tf.keras.optimizers.Adam(1e-4) # 0.0001"
      ],
      "metadata": {
        "id": "m5opSNbG_LaC"
      },
      "execution_count": 50,
      "outputs": []
    },
    {
      "cell_type": "code",
      "source": [
        "checkpoint_dir = './training_checkpoints'\n",
        "checkpoint_prefix = os.path.join(checkpoint_dir, \"ckpt\")\n",
        "checkpoint = tf.train.Checkpoint(opt=optimizer, siamese_model=siamese_model)"
      ],
      "metadata": {
        "id": "VcX3Sfyh_Moz"
      },
      "execution_count": 51,
      "outputs": []
    },
    {
      "cell_type": "code",
      "source": [
        "@tf.function\n",
        "def train_step(batch):\n",
        "\n",
        "    # Record all of our operations\n",
        "    with tf.GradientTape() as tape:\n",
        "        # Get anchor and positive/negative image\n",
        "        X = batch[:2]\n",
        "        # Get the labels\n",
        "        y = batch[2]\n",
        "        # Forward pass\n",
        "        y_pred = siamese_model(X, training=True)\n",
        "        # Calculate loss\n",
        "        loss = binary_cross_loss(y, y_pred)\n",
        "\n",
        "        # Calculating gradients\n",
        "        grad = tape.gradient(loss, siamese_model.trainable_variables)\n",
        "\n",
        "        # Calculating updated weights and apply to siamese model\n",
        "        optimizer.apply_gradients(zip(grad, siamese_model.trainable_variables))\n",
        "        return loss"
      ],
      "metadata": {
        "id": "gVd0E0Rp_OE2"
      },
      "execution_count": 52,
      "outputs": []
    },
    {
      "cell_type": "code",
      "source": [
        "def train(t_data, t_epoch):\n",
        "    # Loop through epochs\n",
        "    for epoch in range(1, t_epoch+1):\n",
        "        print('\\n EPOCH {}/{}'.format(epoch, t_epoch))\n",
        "        progbar = tf.keras.utils.Progbar(len(t_data))\n",
        "\n",
        "        # Loop through each batch\n",
        "        for idx, batch in enumerate(t_data):\n",
        "            # Run train step here\n",
        "            train_step(batch)\n",
        "            progbar.update(idx+1)\n",
        "        # Save checkpoints\n",
        "        if epoch % 10 == 0:\n",
        "            checkpoint.save(file_prefix=checkpoint_prefix)"
      ],
      "metadata": {
        "id": "7KFSx_I0_Q1u"
      },
      "execution_count": 53,
      "outputs": []
    },
    {
      "cell_type": "code",
      "source": [
        "t_epoch = 50"
      ],
      "metadata": {
        "id": "N2NmKYth_Sv7"
      },
      "execution_count": 54,
      "outputs": []
    },
    {
      "cell_type": "code",
      "source": [
        "train(train_data, t_epoch)"
      ],
      "metadata": {
        "id": "3XPUs32l_UaE",
        "outputId": "f3e56833-358b-4bf9-c5f6-d5e68ad40bb0",
        "colab": {
          "base_uri": "https://localhost:8080/"
        }
      },
      "execution_count": 55,
      "outputs": [
        {
          "output_type": "stream",
          "name": "stdout",
          "text": [
            "\n",
            " EPOCH 1/50\n",
            "27/27 [==============================] - 20s 213ms/step\n",
            "\n",
            " EPOCH 2/50\n",
            "27/27 [==============================] - 5s 206ms/step\n",
            "\n",
            " EPOCH 3/50\n",
            "27/27 [==============================] - 5s 207ms/step\n",
            "\n",
            " EPOCH 4/50\n",
            "27/27 [==============================] - 5s 206ms/step\n",
            "\n",
            " EPOCH 5/50\n",
            "27/27 [==============================] - 5s 203ms/step\n",
            "\n",
            " EPOCH 6/50\n",
            "27/27 [==============================] - 5s 201ms/step\n",
            "\n",
            " EPOCH 7/50\n",
            "27/27 [==============================] - 5s 200ms/step\n",
            "\n",
            " EPOCH 8/50\n",
            "27/27 [==============================] - 5s 199ms/step\n",
            "\n",
            " EPOCH 9/50\n",
            "27/27 [==============================] - 5s 198ms/step\n",
            "\n",
            " EPOCH 10/50\n",
            "27/27 [==============================] - 5s 197ms/step\n",
            "\n",
            " EPOCH 11/50\n",
            "27/27 [==============================] - 5s 196ms/step\n",
            "\n",
            " EPOCH 12/50\n",
            "27/27 [==============================] - 5s 197ms/step\n",
            "\n",
            " EPOCH 13/50\n",
            "27/27 [==============================] - 5s 197ms/step\n",
            "\n",
            " EPOCH 14/50\n",
            "27/27 [==============================] - 5s 198ms/step\n",
            "\n",
            " EPOCH 15/50\n",
            "27/27 [==============================] - 5s 199ms/step\n",
            "\n",
            " EPOCH 16/50\n",
            "27/27 [==============================] - 5s 200ms/step\n",
            "\n",
            " EPOCH 17/50\n",
            "27/27 [==============================] - 5s 200ms/step\n",
            "\n",
            " EPOCH 18/50\n",
            "27/27 [==============================] - 5s 201ms/step\n",
            "\n",
            " EPOCH 19/50\n",
            "27/27 [==============================] - 5s 200ms/step\n",
            "\n",
            " EPOCH 20/50\n",
            "27/27 [==============================] - 5s 200ms/step\n",
            "\n",
            " EPOCH 21/50\n",
            "27/27 [==============================] - 5s 200ms/step\n",
            "\n",
            " EPOCH 22/50\n",
            "27/27 [==============================] - 5s 200ms/step\n",
            "\n",
            " EPOCH 23/50\n",
            "27/27 [==============================] - 5s 199ms/step\n",
            "\n",
            " EPOCH 24/50\n",
            "27/27 [==============================] - 5s 198ms/step\n",
            "\n",
            " EPOCH 25/50\n",
            "27/27 [==============================] - 5s 199ms/step\n",
            "\n",
            " EPOCH 26/50\n",
            "27/27 [==============================] - 5s 198ms/step\n",
            "\n",
            " EPOCH 27/50\n",
            "27/27 [==============================] - 5s 198ms/step\n",
            "\n",
            " EPOCH 28/50\n",
            "27/27 [==============================] - 5s 199ms/step\n",
            "\n",
            " EPOCH 29/50\n",
            "27/27 [==============================] - 5s 199ms/step\n",
            "\n",
            " EPOCH 30/50\n",
            "27/27 [==============================] - 5s 199ms/step\n",
            "\n",
            " EPOCH 31/50\n",
            "27/27 [==============================] - 5s 199ms/step\n",
            "\n",
            " EPOCH 32/50\n",
            "27/27 [==============================] - 5s 199ms/step\n",
            "\n",
            " EPOCH 33/50\n",
            "27/27 [==============================] - 5s 199ms/step\n",
            "\n",
            " EPOCH 34/50\n",
            "27/27 [==============================] - 5s 199ms/step\n",
            "\n",
            " EPOCH 35/50\n",
            "27/27 [==============================] - 5s 201ms/step\n",
            "\n",
            " EPOCH 36/50\n",
            "27/27 [==============================] - 5s 199ms/step\n",
            "\n",
            " EPOCH 37/50\n",
            "27/27 [==============================] - 5s 199ms/step\n",
            "\n",
            " EPOCH 38/50\n",
            "27/27 [==============================] - 5s 200ms/step\n",
            "\n",
            " EPOCH 39/50\n",
            "27/27 [==============================] - 5s 200ms/step\n",
            "\n",
            " EPOCH 40/50\n",
            "27/27 [==============================] - 5s 200ms/step\n",
            "\n",
            " EPOCH 41/50\n",
            "27/27 [==============================] - 5s 199ms/step\n",
            "\n",
            " EPOCH 42/50\n",
            "27/27 [==============================] - 5s 200ms/step\n",
            "\n",
            " EPOCH 43/50\n",
            "27/27 [==============================] - 5s 200ms/step\n",
            "\n",
            " EPOCH 44/50\n",
            "27/27 [==============================] - 5s 200ms/step\n",
            "\n",
            " EPOCH 45/50\n",
            "27/27 [==============================] - 5s 199ms/step\n",
            "\n",
            " EPOCH 46/50\n",
            "27/27 [==============================] - 5s 199ms/step\n",
            "\n",
            " EPOCH 47/50\n",
            "27/27 [==============================] - 5s 199ms/step\n",
            "\n",
            " EPOCH 48/50\n",
            "27/27 [==============================] - 5s 199ms/step\n",
            "\n",
            " EPOCH 49/50\n",
            "27/27 [==============================] - 5s 198ms/step\n",
            "\n",
            " EPOCH 50/50\n",
            "27/27 [==============================] - 5s 199ms/step\n"
          ]
        }
      ]
    },
    {
      "cell_type": "code",
      "source": [
        ""
      ],
      "metadata": {
        "id": "t6Q7ZtcO_V1o"
      },
      "execution_count": null,
      "outputs": []
    }
  ]
}